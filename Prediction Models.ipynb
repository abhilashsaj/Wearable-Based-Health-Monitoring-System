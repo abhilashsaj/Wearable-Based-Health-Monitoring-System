{
 "cells": [
  {
   "cell_type": "markdown",
   "metadata": {},
   "source": [
    "# UCI Coronary Heart Disease Prediction Model"
   ]
  },
  {
   "cell_type": "code",
   "execution_count": 1,
   "metadata": {},
   "outputs": [],
   "source": [
    "import pandas as pd\n",
    "df = pd.read_csv(\"heart.csv\")"
   ]
  },
  {
   "cell_type": "code",
   "execution_count": 2,
   "metadata": {},
   "outputs": [
    {
     "data": {
      "text/html": [
       "<div>\n",
       "<style scoped>\n",
       "    .dataframe tbody tr th:only-of-type {\n",
       "        vertical-align: middle;\n",
       "    }\n",
       "\n",
       "    .dataframe tbody tr th {\n",
       "        vertical-align: top;\n",
       "    }\n",
       "\n",
       "    .dataframe thead th {\n",
       "        text-align: right;\n",
       "    }\n",
       "</style>\n",
       "<table border=\"1\" class=\"dataframe\">\n",
       "  <thead>\n",
       "    <tr style=\"text-align: right;\">\n",
       "      <th></th>\n",
       "      <th>age</th>\n",
       "      <th>sex</th>\n",
       "      <th>cp</th>\n",
       "      <th>trestbps</th>\n",
       "      <th>chol</th>\n",
       "      <th>fbs</th>\n",
       "      <th>restecg</th>\n",
       "      <th>thalach</th>\n",
       "      <th>exang</th>\n",
       "      <th>oldpeak</th>\n",
       "      <th>slope</th>\n",
       "      <th>ca</th>\n",
       "      <th>thal</th>\n",
       "      <th>target</th>\n",
       "    </tr>\n",
       "  </thead>\n",
       "  <tbody>\n",
       "    <tr>\n",
       "      <th>0</th>\n",
       "      <td>63</td>\n",
       "      <td>1</td>\n",
       "      <td>3</td>\n",
       "      <td>145</td>\n",
       "      <td>233</td>\n",
       "      <td>1</td>\n",
       "      <td>0</td>\n",
       "      <td>150</td>\n",
       "      <td>0</td>\n",
       "      <td>2.3</td>\n",
       "      <td>0</td>\n",
       "      <td>0</td>\n",
       "      <td>1</td>\n",
       "      <td>1</td>\n",
       "    </tr>\n",
       "    <tr>\n",
       "      <th>1</th>\n",
       "      <td>37</td>\n",
       "      <td>1</td>\n",
       "      <td>2</td>\n",
       "      <td>130</td>\n",
       "      <td>250</td>\n",
       "      <td>0</td>\n",
       "      <td>1</td>\n",
       "      <td>187</td>\n",
       "      <td>0</td>\n",
       "      <td>3.5</td>\n",
       "      <td>0</td>\n",
       "      <td>0</td>\n",
       "      <td>2</td>\n",
       "      <td>1</td>\n",
       "    </tr>\n",
       "    <tr>\n",
       "      <th>2</th>\n",
       "      <td>41</td>\n",
       "      <td>0</td>\n",
       "      <td>1</td>\n",
       "      <td>130</td>\n",
       "      <td>204</td>\n",
       "      <td>0</td>\n",
       "      <td>0</td>\n",
       "      <td>172</td>\n",
       "      <td>0</td>\n",
       "      <td>1.4</td>\n",
       "      <td>2</td>\n",
       "      <td>0</td>\n",
       "      <td>2</td>\n",
       "      <td>1</td>\n",
       "    </tr>\n",
       "    <tr>\n",
       "      <th>3</th>\n",
       "      <td>56</td>\n",
       "      <td>1</td>\n",
       "      <td>1</td>\n",
       "      <td>120</td>\n",
       "      <td>236</td>\n",
       "      <td>0</td>\n",
       "      <td>1</td>\n",
       "      <td>178</td>\n",
       "      <td>0</td>\n",
       "      <td>0.8</td>\n",
       "      <td>2</td>\n",
       "      <td>0</td>\n",
       "      <td>2</td>\n",
       "      <td>1</td>\n",
       "    </tr>\n",
       "    <tr>\n",
       "      <th>4</th>\n",
       "      <td>57</td>\n",
       "      <td>0</td>\n",
       "      <td>0</td>\n",
       "      <td>120</td>\n",
       "      <td>354</td>\n",
       "      <td>0</td>\n",
       "      <td>1</td>\n",
       "      <td>163</td>\n",
       "      <td>1</td>\n",
       "      <td>0.6</td>\n",
       "      <td>2</td>\n",
       "      <td>0</td>\n",
       "      <td>2</td>\n",
       "      <td>1</td>\n",
       "    </tr>\n",
       "  </tbody>\n",
       "</table>\n",
       "</div>"
      ],
      "text/plain": [
       "   age  sex  cp  trestbps  chol  fbs  restecg  thalach  exang  oldpeak  slope  \\\n",
       "0   63    1   3       145   233    1        0      150      0      2.3      0   \n",
       "1   37    1   2       130   250    0        1      187      0      3.5      0   \n",
       "2   41    0   1       130   204    0        0      172      0      1.4      2   \n",
       "3   56    1   1       120   236    0        1      178      0      0.8      2   \n",
       "4   57    0   0       120   354    0        1      163      1      0.6      2   \n",
       "\n",
       "   ca  thal  target  \n",
       "0   0     1       1  \n",
       "1   0     2       1  \n",
       "2   0     2       1  \n",
       "3   0     2       1  \n",
       "4   0     2       1  "
      ]
     },
     "execution_count": 2,
     "metadata": {},
     "output_type": "execute_result"
    }
   ],
   "source": [
    "df.head()"
   ]
  },
  {
   "cell_type": "code",
   "execution_count": 12,
   "metadata": {},
   "outputs": [],
   "source": [
    "X = df[['trestbps','chol','thalach']]\n",
    "y = df[\"target\"]"
   ]
  },
  {
   "cell_type": "code",
   "execution_count": 5,
   "metadata": {},
   "outputs": [],
   "source": [
    "from sklearn.model_selection import train_test_split\n",
    "X_train, X_test, y_train, y_test = train_test_split(X, Y, test_size = 0.3, random_state = 0)"
   ]
  },
  {
   "cell_type": "code",
   "execution_count": 7,
   "metadata": {},
   "outputs": [
    {
     "data": {
      "text/plain": [
       "LogisticRegression(C=1.0, class_weight=None, dual=False, fit_intercept=True,\n",
       "                   intercept_scaling=1, l1_ratio=None, max_iter=1000,\n",
       "                   multi_class='auto', n_jobs=None, penalty='l2',\n",
       "                   random_state=None, solver='lbfgs', tol=0.0001, verbose=0,\n",
       "                   warm_start=False)"
      ]
     },
     "execution_count": 7,
     "metadata": {},
     "output_type": "execute_result"
    }
   ],
   "source": [
    "from sklearn import linear_model\n",
    "log_regr = linear_model.LogisticRegression(max_iter = 1000)\n",
    "log_regr.fit(X_train, y_train)"
   ]
  },
  {
   "cell_type": "code",
   "execution_count": 8,
   "metadata": {},
   "outputs": [
    {
     "data": {
      "text/plain": [
       "0.6923076923076923"
      ]
     },
     "execution_count": 8,
     "metadata": {},
     "output_type": "execute_result"
    }
   ],
   "source": [
    "log_regr.score(X_test, y_test)"
   ]
  },
  {
   "cell_type": "code",
   "execution_count": 10,
   "metadata": {},
   "outputs": [],
   "source": [
    "import pandas as pd\n",
    "from sklearn.preprocessing import StandardScaler\n",
    "from sklearn.decomposition import PCA\n",
    "import numpy as np\n",
    "# import pandas as pd\n",
    "import matplotlib.pyplot as plt\n",
    "from matplotlib import rcParams\n",
    "from matplotlib.cm import rainbow\n",
    "%matplotlib inline\n",
    "import warnings\n",
    "warnings.filterwarnings('ignore')\n",
    "\n",
    "from sklearn.model_selection import train_test_split\n",
    "from sklearn.preprocessing import StandardScaler\n",
    "\n",
    "from sklearn.neighbors import KNeighborsClassifier\n",
    "from sklearn.svm import SVC\n",
    "from sklearn.tree import DecisionTreeClassifier\n",
    "from sklearn.ensemble import RandomForestClassifier\n",
    "from sklearn.linear_model import LogisticRegression\n",
    "from sklearn import metrics\n",
    "from sklearn.naive_bayes import GaussianNB\n",
    "from sklearn import model_selection\n",
    "from sklearn.ensemble import BaggingClassifier\n",
    "from sklearn.ensemble import ExtraTreesClassifier\n",
    "from sklearn.ensemble import AdaBoostClassifier\n",
    "from sklearn.ensemble import GradientBoostingClassifier\n",
    "from sklearn.ensemble import VotingClassifier\n",
    "from sklearn.metrics import roc_curve, roc_auc_score\n"
   ]
  },
  {
   "cell_type": "code",
   "execution_count": 13,
   "metadata": {},
   "outputs": [
    {
     "data": {
      "text/html": [
       "<div>\n",
       "<style scoped>\n",
       "    .dataframe tbody tr th:only-of-type {\n",
       "        vertical-align: middle;\n",
       "    }\n",
       "\n",
       "    .dataframe tbody tr th {\n",
       "        vertical-align: top;\n",
       "    }\n",
       "\n",
       "    .dataframe thead th {\n",
       "        text-align: right;\n",
       "    }\n",
       "</style>\n",
       "<table border=\"1\" class=\"dataframe\">\n",
       "  <thead>\n",
       "    <tr style=\"text-align: right;\">\n",
       "      <th></th>\n",
       "      <th>score</th>\n",
       "      <th>auc</th>\n",
       "      <th>cross val</th>\n",
       "    </tr>\n",
       "    <tr>\n",
       "      <th>classifiers</th>\n",
       "      <th></th>\n",
       "      <th></th>\n",
       "      <th></th>\n",
       "    </tr>\n",
       "  </thead>\n",
       "  <tbody>\n",
       "    <tr>\n",
       "      <th>SVC</th>\n",
       "      <td>51.648352</td>\n",
       "      <td>35.69</td>\n",
       "      <td>54.45</td>\n",
       "    </tr>\n",
       "    <tr>\n",
       "      <th>KNeighborsClassifier</th>\n",
       "      <td>63.736264</td>\n",
       "      <td>67.70</td>\n",
       "      <td>63.39</td>\n",
       "    </tr>\n",
       "    <tr>\n",
       "      <th>DecisionTreeClassifier</th>\n",
       "      <td>63.736264</td>\n",
       "      <td>63.37</td>\n",
       "      <td>57.47</td>\n",
       "    </tr>\n",
       "    <tr>\n",
       "      <th>RandomForestClassifier</th>\n",
       "      <td>65.934066</td>\n",
       "      <td>70.65</td>\n",
       "      <td>66.08</td>\n",
       "    </tr>\n",
       "    <tr>\n",
       "      <th>LogisticRegression</th>\n",
       "      <td>69.230769</td>\n",
       "      <td>76.35</td>\n",
       "      <td>70.33</td>\n",
       "    </tr>\n",
       "    <tr>\n",
       "      <th>GaussianNB</th>\n",
       "      <td>68.131868</td>\n",
       "      <td>76.21</td>\n",
       "      <td>67.70</td>\n",
       "    </tr>\n",
       "    <tr>\n",
       "      <th>BaggingClassifier</th>\n",
       "      <td>51.648352</td>\n",
       "      <td>56.14</td>\n",
       "      <td>54.45</td>\n",
       "    </tr>\n",
       "    <tr>\n",
       "      <th>ExtraTreesClassifier</th>\n",
       "      <td>65.934066</td>\n",
       "      <td>68.13</td>\n",
       "      <td>64.43</td>\n",
       "    </tr>\n",
       "    <tr>\n",
       "      <th>AdaBoostClassifier</th>\n",
       "      <td>59.340659</td>\n",
       "      <td>63.18</td>\n",
       "      <td>59.42</td>\n",
       "    </tr>\n",
       "    <tr>\n",
       "      <th>GradientBoostingClassifier</th>\n",
       "      <td>58.241758</td>\n",
       "      <td>65.28</td>\n",
       "      <td>60.48</td>\n",
       "    </tr>\n",
       "    <tr>\n",
       "      <th>VotingClassifier</th>\n",
       "      <td>63.736264</td>\n",
       "      <td>70.70</td>\n",
       "      <td>64.74</td>\n",
       "    </tr>\n",
       "  </tbody>\n",
       "</table>\n",
       "</div>"
      ],
      "text/plain": [
       "                                score    auc  cross val\n",
       "classifiers                                            \n",
       "SVC                         51.648352  35.69      54.45\n",
       "KNeighborsClassifier        63.736264  67.70      63.39\n",
       "DecisionTreeClassifier      63.736264  63.37      57.47\n",
       "RandomForestClassifier      65.934066  70.65      66.08\n",
       "LogisticRegression          69.230769  76.35      70.33\n",
       "GaussianNB                  68.131868  76.21      67.70\n",
       "BaggingClassifier           51.648352  56.14      54.45\n",
       "ExtraTreesClassifier        65.934066  68.13      64.43\n",
       "AdaBoostClassifier          59.340659  63.18      59.42\n",
       "GradientBoostingClassifier  58.241758  65.28      60.48\n",
       "VotingClassifier            63.736264  70.70      64.74"
      ]
     },
     "execution_count": 13,
     "metadata": {},
     "output_type": "execute_result"
    }
   ],
   "source": [
    "from sklearn.model_selection import cross_val_score \n",
    "\n",
    "k = 10\n",
    "\n",
    "#SVM \n",
    "clf = SVC(kernel='sigmoid', probability=True)\n",
    "clf.fit(X_train, y_train)\n",
    "svc_acc = clf.score(X_test, y_test)*100\n",
    "scores = cross_val_score(clf, X, y, cv=k) \n",
    "svc_crossval = round(scores.mean()*100, 4)\n",
    "\n",
    "#KNN\n",
    "knn_classifier = KNeighborsClassifier(n_neighbors = 5)\n",
    "knn_classifier.fit(X_train, y_train)\n",
    "knn_acc = knn_classifier.score(X_test, y_test)*100\n",
    "scores = cross_val_score(knn_classifier, X, y, cv=k)\n",
    "knn_crossval = round(scores.mean()*100, 2)\n",
    "\n",
    "#Decision Tree\n",
    "dt_classifier = DecisionTreeClassifier(max_features = 2)\n",
    "dt_classifier.fit(X_train, y_train)\n",
    "dt_acc = dt_classifier.score(X_test, y_test)*100\n",
    "scores = cross_val_score(dt_classifier, X, y, cv=k) \n",
    "dt_crossval =round(scores.mean()*100, 2)\n",
    "\n",
    "#Random Forest\n",
    "rf_classifier = RandomForestClassifier(n_estimators =500)\n",
    "rf_classifier.fit(X_train, y_train)\n",
    "rf_acc = rf_classifier.score(X_test, y_test)*100\n",
    "scores = cross_val_score(rf_classifier, X, y, cv=k) \n",
    "rf_crossval = round(scores.mean()*100, 2)\n",
    "\n",
    "#Logistic Regression\n",
    "logreg = LogisticRegression().fit(X_train, y_train)\n",
    "lr_acc = logreg.score(X_test, y_test)*100\n",
    "scores = cross_val_score(logreg, X, y, cv=k) \n",
    "lr_crossval = round(scores.mean()*100, 2)\n",
    "\n",
    "#Gausian Naive Bayes\n",
    "gnb = GaussianNB().fit(X_train, y_train)\n",
    "GNB_acc = gnb.score(X_test, y_test)*100\n",
    "scores = cross_val_score(gnb, X, y, cv=k) \n",
    "GNB_crossval = round(scores.mean()*100, 2)\n",
    "\n",
    "# xgb_model = xgb.XGBClassifier(objective=\"binary:logistic\", random_state=42)\n",
    "# xgb_model.fit(X_train, y_train)\n",
    "# xgb_acc = xgb.score(X_test, y_test)*100\n",
    "# scores = cross_val_score(xgb_model, X, y, cv=k) \n",
    "# XGB_crossval = round(scores.mean()*100, 2)\n",
    "\n",
    "\n",
    "#Ensemble Methods\n",
    "#Bagged SVM\n",
    "model = BaggingClassifier(base_estimator=SVC(kernel='sigmoid'),\n",
    "                         n_estimators=1000).fit(X_train, y_train)\n",
    "BSVM_acc = model.score(X_test,y_test)*100\n",
    "results = model_selection.cross_val_score(model, X, y, cv=k)\n",
    "BSVM_crossval = round(results.mean()*100, 2)\n",
    "\n",
    "# Extra Trees\n",
    "model = ExtraTreesClassifier(n_estimators=1000)\n",
    "ET_acc = model.fit(X_train,y_train).score(X_test,y_test)*100\n",
    "results = model_selection.cross_val_score(model, X, y, cv=k)\n",
    "ET_crossval = round(results.mean()*100, 2)\n",
    "\n",
    "#Boosting\n",
    "# AdaBoost Classification\n",
    "model = AdaBoostClassifier(n_estimators=1000)\n",
    "AB_acc = model.fit(X_train,y_train).score(X_test,y_test)*100\n",
    "results = model_selection.cross_val_score(model, X, y, cv=k)\n",
    "AB_crossval = round(results.mean()*100, 2)\n",
    "\n",
    "#Stochastic Gradient Boosting\n",
    "model = GradientBoostingClassifier(n_estimators=1000)\n",
    "SGB_acc = model.fit(X_train,y_train).score(X_test,y_test)*100\n",
    "results = model_selection.cross_val_score(model, X, y, cv=k)\n",
    "SGB_crossval = round(results.mean()*100, 2)\n",
    "\n",
    "\n",
    "#Voting Ensemble\n",
    "estimators = []\n",
    "model1 = LogisticRegression()\n",
    "estimators.append(('logistic', model1))\n",
    "model2 = DecisionTreeClassifier()\n",
    "estimators.append(('cart', model2))\n",
    "model3 = SVC(probability=True)\n",
    "estimators.append(('svm', model3))\n",
    "model4 = KNeighborsClassifier(n_neighbors=5)\n",
    "estimators.append(('knn', model4))\n",
    "model5 = RandomForestClassifier()\n",
    "estimators.append(('rf', model5))\n",
    "\n",
    "ensemble = VotingClassifier(estimators)\n",
    "VC_acc = ensemble.fit(X_train,y_train).score(X_test,y_test)*100\n",
    "results = model_selection.cross_val_score(ensemble, X, y, cv=k)\n",
    "VC_crossval = round(results.mean()*100, 2)\n",
    "\n",
    "\n",
    "\n",
    "## ROC\n",
    "classifiers = [\n",
    "               SVC(kernel='sigmoid', probability=True),\n",
    "               KNeighborsClassifier(n_neighbors=5), \n",
    "               DecisionTreeClassifier(),\n",
    "                RandomForestClassifier(n_estimators =500),\n",
    "                LogisticRegression(),\n",
    "    GaussianNB(),\n",
    "               BaggingClassifier(base_estimator=SVC(kernel='sigmoid'),\n",
    "                         n_estimators=1000, random_state=0),\n",
    "    ExtraTreesClassifier(n_estimators=1000),\n",
    "    AdaBoostClassifier(n_estimators=1000),\n",
    "    GradientBoostingClassifier(n_estimators=1000),\n",
    "               VotingClassifier(estimators,voting=\"soft\"),\n",
    "               ]\n",
    "\n",
    "# Define a result table as a DataFrame\n",
    "result_table = pd.DataFrame(columns=['classifiers','score','auc'])\n",
    "\n",
    "# Train the models and record the results\n",
    "for cls in classifiers:\n",
    "    model = cls.fit(X_train, y_train)\n",
    "    acc = model.score(X_test,y_test)*100\n",
    "    cross_val = round(cross_val_score(model, X, y, cv=k).mean()*100,2)\n",
    "    yproba = model.predict_proba(X_test)[::,1]\n",
    "    \n",
    "    \n",
    "    fpr, tpr, _ = roc_curve(y_test,  yproba)\n",
    "    auc = roc_auc_score(y_test, yproba)\n",
    "    \n",
    "    result_table = result_table.append({'classifiers':cls.__class__.__name__,\n",
    "                                        'score':acc,\n",
    "                                        'cross val':cross_val,\n",
    "                                        'auc':round(auc*100,2),\n",
    "                                        }, ignore_index=True)\n",
    "\n",
    "# Set name of the classifiers as index labels\n",
    "result_table.set_index('classifiers', inplace=True)\n",
    "result_table"
   ]
  },
  {
   "cell_type": "markdown",
   "metadata": {},
   "source": [
    "# Diabetes Prediction"
   ]
  },
  {
   "cell_type": "code",
   "execution_count": 72,
   "metadata": {},
   "outputs": [],
   "source": [
    "import pandas as pd\n",
    "df = pd.read_csv(\"dataset.csv\")"
   ]
  },
  {
   "cell_type": "code",
   "execution_count": 15,
   "metadata": {},
   "outputs": [
    {
     "data": {
      "text/plain": [
       "Index(['Unnamed: 0', 'asthma', 'blood_pressure_dia', 'blood_pressure_sys',\n",
       "       'blood_sugar_level', 'breath_shortness_severity', 'breaths_per_minute',\n",
       "       'bronchiectasis', 'cholestorol', 'cough_frequency', 'cough_severity',\n",
       "       'diabetes', 'heart_rate', 'hypoxemia', 'is_running',\n",
       "       'oxygen_saturation', 'post_meal'],\n",
       "      dtype='object')"
      ]
     },
     "execution_count": 15,
     "metadata": {},
     "output_type": "execute_result"
    }
   ],
   "source": [
    "df.columns"
   ]
  },
  {
   "cell_type": "code",
   "execution_count": 110,
   "metadata": {
    "scrolled": true
   },
   "outputs": [],
   "source": [
    "X = df[['blood_sugar_level','post_meal']]\n",
    "Y = df['diabetes']"
   ]
  },
  {
   "cell_type": "markdown",
   "metadata": {},
   "source": [
    "## Logistic Regression"
   ]
  },
  {
   "cell_type": "code",
   "execution_count": 136,
   "metadata": {
    "scrolled": false
   },
   "outputs": [
    {
     "name": "stdout",
     "output_type": "stream",
     "text": [
      "93.63333333333334\n",
      "[2 2 2 ... 2 1 2]\n",
      "[[ 879    0    0]\n",
      " [  60  114  131]\n",
      " [   0    0 1816]]\n"
     ]
    },
    {
     "data": {
      "text/plain": [
       "array([[ 879,    0,    0],\n",
       "       [  60,  114,  131],\n",
       "       [   0,    0, 1816]], dtype=int64)"
      ]
     },
     "execution_count": 136,
     "metadata": {},
     "output_type": "execute_result"
    },
    {
     "data": {
      "image/png": "[encoded data removed]",
      "text/plain": [
       "<Figure size 864x576 with 2 Axes>"
      ]
     },
     "metadata": {
      "needs_background": "light"
     },
     "output_type": "display_data"
    }
   ],
   "source": [
    "from sklearn.linear_model import LinearRegression\n",
    "import numpy as np\n",
    "from sklearn.metrics import confusion_matrix\n",
    "import seaborn as sns\n",
    "\n",
    "\n",
    "X_train, X_test, y_train, y_test = train_test_split(X, Y, test_size = 0.3, random_state = 0)\n",
    "\n",
    "\n",
    "logreg = LogisticRegression(multi_class='ovr', solver='liblinear').fit(X_train, y_train)\n",
    "print(logreg.score(X_test, y_test)*100)\n",
    "\n",
    "\n",
    "y_preds = logreg.predict(X_test)\n",
    "print(y_preds)\n",
    "\n",
    "\n",
    "cf_matrix = confusion_matrix(y_test, y_preds)\n",
    "print(cf_matrix)\n",
    "\n",
    "#Creating matplotlib axes object to assign figuresize and figure title\n",
    "import matplotlib.pyplot as plt\n",
    "\n",
    "fig, ax = plt.subplots(figsize=(12, 8))\n",
    "ax.set_title('Confusion Matrix')\n",
    "\n",
    "disp =metrics.plot_confusion_matrix(logreg, X_test, y_test, display_labels= [\"no diabetes\", \"prediabetes\", \"diabetes\"], ax = ax)\n",
    "disp.confusion_matrix"
   ]
  },
  {
   "cell_type": "code",
   "execution_count": 125,
   "metadata": {},
   "outputs": [
    {
     "data": {
      "text/plain": [
       "array([2], dtype=int64)"
      ]
     },
     "execution_count": 125,
     "metadata": {},
     "output_type": "execute_result"
    }
   ],
   "source": [
    "logreg.predict([[190, True]])"
   ]
  },
  {
   "cell_type": "markdown",
   "metadata": {},
   "source": [
    "## SVM"
   ]
  },
  {
   "cell_type": "code",
   "execution_count": 135,
   "metadata": {},
   "outputs": [
    {
     "name": "stdout",
     "output_type": "stream",
     "text": [
      "97.23333333333333\n",
      "[1 2 2 ... 2 1 2]\n",
      "[[ 879    0    0]\n",
      " [  24  222   59]\n",
      " [   0    0 1816]]\n"
     ]
    },
    {
     "data": {
      "text/plain": [
       "array([[ 879,    0,    0],\n",
       "       [  24,  222,   59],\n",
       "       [   0,    0, 1816]], dtype=int64)"
      ]
     },
     "execution_count": 135,
     "metadata": {},
     "output_type": "execute_result"
    },
    {
     "data": {
      "image/png": "[encoded data removed]",
      "text/plain": [
       "<Figure size 864x576 with 2 Axes>"
      ]
     },
     "metadata": {
      "needs_background": "light"
     },
     "output_type": "display_data"
    }
   ],
   "source": [
    "from sklearn.multiclass import OneVsRestClassifier\n",
    "\n",
    "clf = OneVsRestClassifier(SVC(kernel = 'linear', C = 1)).fit(X_train, y_train)\n",
    "\n",
    "y_preds = clf.predict(X_test)\n",
    "\n",
    "print(clf.score(X_test, y_test)*100)\n",
    "print(y_preds)\n",
    "\n",
    "cf_matrix = confusion_matrix(y_test, y_preds)\n",
    "print(cf_matrix)\n",
    "\n",
    "fig, ax = plt.subplots(figsize=(12, 8))\n",
    "ax.set_title('Confusion Matrx')\n",
    "\n",
    "disp =metrics.plot_confusion_matrix(clf, X_test, y_test, display_labels= [\"no diabetes\", \"prediabetes\", \"diabetes\"], ax = ax)\n",
    "disp.confusion_matrix"
   ]
  },
  {
   "cell_type": "code",
   "execution_count": 121,
   "metadata": {},
   "outputs": [
    {
     "data": {
      "text/plain": [
       "array([0, 0, 2], dtype=int64)"
      ]
     },
     "execution_count": 121,
     "metadata": {},
     "output_type": "execute_result"
    }
   ],
   "source": [
    "clf.predict([[100,True], [130,True], [200, True]])"
   ]
  },
  {
   "cell_type": "markdown",
   "metadata": {},
   "source": [
    "## KNN"
   ]
  },
  {
   "cell_type": "code",
   "execution_count": 143,
   "metadata": {},
   "outputs": [
    {
     "name": "stdout",
     "output_type": "stream",
     "text": [
      "1.0\n"
     ]
    },
    {
     "data": {
      "text/plain": [
       "array([[ 879,    0,    0],\n",
       "       [   0,  305,    0],\n",
       "       [   0,    0, 1816]], dtype=int64)"
      ]
     },
     "execution_count": 143,
     "metadata": {},
     "output_type": "execute_result"
    },
    {
     "data": {
      "image/png": "[encoded data removed]",
      "text/plain": [
       "<Figure size 864x576 with 2 Axes>"
      ]
     },
     "metadata": {
      "needs_background": "light"
     },
     "output_type": "display_data"
    }
   ],
   "source": [
    "knn = KNeighborsClassifier(n_neighbors = 3).fit(X_train, y_train) \n",
    "  \n",
    "accuracy = knn.score(X_test, y_test) \n",
    "print (accuracy) \n",
    "  \n",
    "# creating a confusion matrix \n",
    "knn_predictions = knn.predict(X_test)  \n",
    "cm = confusion_matrix(y_test, knn_predictions) \n",
    "\n",
    "fig, ax = plt.subplots(figsize=(12, 8))\n",
    "ax.set_title('Confusion Matrx')\n",
    "\n",
    "disp =metrics.plot_confusion_matrix(knn, X_test, y_test, display_labels= [\"no diabetes\", \"prediabetes\", \"diabetes\"], ax = ax)\n",
    "disp.confusion_matrix"
   ]
  },
  {
   "cell_type": "markdown",
   "metadata": {},
   "source": [
    "\n",
    "# Bronchiectasis Prediction Model"
   ]
  },
  {
   "cell_type": "code",
   "execution_count": 150,
   "metadata": {
    "scrolled": false
   },
   "outputs": [
    {
     "name": "stdout",
     "output_type": "stream",
     "text": [
      "[0 0 1 ... 0 0 0]\n",
      "[[2585   55]\n",
      " [ 284   76]]\n"
     ]
    },
    {
     "data": {
      "text/plain": [
       "array([[2585,   55],\n",
       "       [ 284,   76]], dtype=int64)"
      ]
     },
     "execution_count": 150,
     "metadata": {},
     "output_type": "execute_result"
    },
    {
     "data": {
      "image/png": "[encoded data removed]",
      "text/plain": [
       "<Figure size 864x576 with 2 Axes>"
      ]
     },
     "metadata": {
      "needs_background": "light"
     },
     "output_type": "display_data"
    }
   ],
   "source": [
    "from sklearn import linear_model\n",
    "X = df[['breaths_per_minute', 'breath_shortness_severity', 'cough_frequency','cough_severity']]\n",
    "Y = df['bronchiectasis']\n",
    "\n",
    "X_train, X_test, y_train, y_test = train_test_split(X, Y, test_size = 0.3, random_state = 0)\n",
    "\n",
    "log_regr = linear_model.LogisticRegression(max_iter = 1000)\n",
    "log_regr.fit(X_train, y_train)\n",
    "\n",
    "log_regr.score(X_test, y_test)\n",
    "\n",
    "y_preds = log_regr.predict(X_test)\n",
    "print(y_preds)\n",
    "\n",
    "cf_matrix = confusion_matrix(y_test, y_preds)\n",
    "print(cf_matrix)\n",
    "\n",
    "group_names = [\"True Neg\", \"False Pos\", \"False Neg\", \"True Pos\"]\n",
    "\n",
    "fig, ax = plt.subplots(figsize=(12, 8))\n",
    "ax.set_title('Confusion Matrx')\n",
    "\n",
    "disp =metrics.plot_confusion_matrix(log_regr, X_test, y_test, display_labels= [\"no bronchi\", \"bronchi\"], ax = ax)\n",
    "disp.confusion_matrix\n"
   ]
  },
  {
   "cell_type": "code",
   "execution_count": 152,
   "metadata": {},
   "outputs": [
    {
     "name": "stdout",
     "output_type": "stream",
     "text": [
      "97.7\n",
      "[1 0 1 ... 0 0 0]\n",
      "[[2621   19]\n",
      " [  50  310]]\n"
     ]
    },
    {
     "data": {
      "text/plain": [
       "array([[2621,   19],\n",
       "       [  50,  310]], dtype=int64)"
      ]
     },
     "execution_count": 152,
     "metadata": {},
     "output_type": "execute_result"
    },
    {
     "data": {
      "image/png": "[encoded data removed]",
      "text/plain": [
       "<Figure size 864x576 with 2 Axes>"
      ]
     },
     "metadata": {
      "needs_background": "light"
     },
     "output_type": "display_data"
    }
   ],
   "source": [
    "\n",
    "clf = SVC().fit(X_train, y_train)\n",
    "\n",
    "y_preds = clf.predict(X_test)\n",
    "\n",
    "print(clf.score(X_test, y_test)*100)\n",
    "print(y_preds)\n",
    "\n",
    "cf_matrix = confusion_matrix(y_test, y_preds)\n",
    "print(cf_matrix)\n",
    "\n",
    "fig, ax = plt.subplots(figsize=(12, 8))\n",
    "ax.set_title('Confusion Matrx')\n",
    "\n",
    "disp =metrics.plot_confusion_matrix(clf, X_test, y_test, display_labels= [\"no bronchi\", \"bronchi\"], ax = ax)\n",
    "disp.confusion_matrix"
   ]
  },
  {
   "cell_type": "code",
   "execution_count": 154,
   "metadata": {},
   "outputs": [
    {
     "name": "stdout",
     "output_type": "stream",
     "text": [
      "0.981\n"
     ]
    },
    {
     "data": {
      "text/plain": [
       "array([[2628,   12],\n",
       "       [  45,  315]], dtype=int64)"
      ]
     },
     "execution_count": 154,
     "metadata": {},
     "output_type": "execute_result"
    },
    {
     "data": {
      "image/png": "[encoded data removed]",
      "text/plain": [
       "<Figure size 864x576 with 2 Axes>"
      ]
     },
     "metadata": {
      "needs_background": "light"
     },
     "output_type": "display_data"
    }
   ],
   "source": [
    "knn = KNeighborsClassifier(n_neighbors = 2).fit(X_train, y_train) \n",
    "  \n",
    "accuracy = knn.score(X_test, y_test) \n",
    "print (accuracy) \n",
    "  \n",
    "# creating a confusion matrix \n",
    "knn_predictions = knn.predict(X_test)  \n",
    "cm = confusion_matrix(y_test, knn_predictions) \n",
    "\n",
    "fig, ax = plt.subplots(figsize=(12, 8))\n",
    "ax.set_title('Confusion Matrx')\n",
    "\n",
    "disp =metrics.plot_confusion_matrix(knn, X_test, y_test, display_labels= [\"no bronchi\", \"bronchi\"], ax = ax)\n",
    "disp.confusion_matrix"
   ]
  },
  {
   "cell_type": "markdown",
   "metadata": {},
   "source": [
    "# Hypoxemia"
   ]
  },
  {
   "cell_type": "code",
   "execution_count": 155,
   "metadata": {},
   "outputs": [],
   "source": [
    "X = df[['oxygen_saturation']]\n",
    "Y = df['hypoxemia']\n",
    "\n",
    "X_train, X_test, y_train, y_test = train_test_split(X, Y, test_size = 0.3, random_state = 0)\n"
   ]
  },
  {
   "cell_type": "code",
   "execution_count": 156,
   "metadata": {},
   "outputs": [
    {
     "name": "stdout",
     "output_type": "stream",
     "text": [
      "[0 0 1 ... 0 0 0]\n",
      "[[2585   55]\n",
      " [ 284   76]]\n"
     ]
    },
    {
     "data": {
      "text/plain": [
       "array([[2585,   55],\n",
       "       [ 284,   76]], dtype=int64)"
      ]
     },
     "execution_count": 156,
     "metadata": {},
     "output_type": "execute_result"
    },
    {
     "data": {
      "image/png": "[encoded data removed]",
      "text/plain": [
       "<Figure size 864x576 with 2 Axes>"
      ]
     },
     "metadata": {
      "needs_background": "light"
     },
     "output_type": "display_data"
    }
   ],
   "source": [
    "log_regr = linear_model.LogisticRegression(max_iter = 1000)\n",
    "log_regr.fit(X_train, y_train)\n",
    "\n",
    "log_regr.score(X_test, y_test)\n",
    "\n",
    "y_preds = log_regr.predict(X_test)\n",
    "print(y_preds)\n",
    "\n",
    "cf_matrix = confusion_matrix(y_test, y_preds)\n",
    "print(cf_matrix)\n",
    "\n",
    "group_names = [\"True Neg\", \"False Pos\", \"False Neg\", \"True Pos\"]\n",
    "\n",
    "fig, ax = plt.subplots(figsize=(12, 8))\n",
    "ax.set_title('Confusion Matrx')\n",
    "\n",
    "disp =metrics.plot_confusion_matrix(log_regr, X_test, y_test, display_labels= [\"no bronchi\", \"bronchi\"], ax = ax)\n",
    "disp.confusion_matrix"
   ]
  },
  {
   "cell_type": "code",
   "execution_count": null,
   "metadata": {},
   "outputs": [],
   "source": []
  }
 ],
 "metadata": {
  "kernelspec": {
   "display_name": "Python 3",
   "language": "python",
   "name": "python3"
  },
  "language_info": {
   "codemirror_mode": {
    "name": "ipython",
    "version": 3
   },
   "file_extension": ".py",
   "mimetype": "text/x-python",
   "name": "python",
   "nbconvert_exporter": "python",
   "pygments_lexer": "ipython3",
   "version": "3.7.1"
  }
 },
 "nbformat": 4,
 "nbformat_minor": 2
}
