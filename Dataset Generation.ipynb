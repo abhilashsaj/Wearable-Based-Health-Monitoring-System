{
 "cells": [
  {
   "cell_type": "code",
   "execution_count": 6,
   "metadata": {},
   "outputs": [
    {
     "name": "stdout",
     "output_type": "stream",
     "text": [
      "True 353\n"
     ]
    }
   ],
   "source": [
    "import random \n",
    "\n",
    "# BLOOD SUGAR LEVELS (mg/dl)\n",
    "# normal \n",
    "    # 70 - 99  fasting\n",
    "    # <140 post meal\n",
    "    \n",
    "# prediabetes \n",
    "    # 100 - 125  fasting\n",
    "    # 140 - 199 post meal\n",
    "    \n",
    "# Diabetes \n",
    "    # >126  fasting\n",
    "    # >200 post meal\n",
    "    \n",
    "# convert mmol/l to mg/l     \n",
    "\n",
    "post_meal = bool(random.getrandbits(1))\n",
    "blood_sugar_level = random.randint(0,400)\n",
    "\n",
    "\n",
    "print(post_meal, blood_sugar_level)\n",
    "\n",
    "\n",
    "# Bronchiectasis \n",
    "\n",
    "# Patients are characterized by abnomrmal breathing and coughing frequency\n",
    "# Reference BioSticker, Validac\n",
    "breaths_per_minute = random.randint(12,30)\n",
    "is_running = bool(random.getrandbits(1))\n",
    "breath_shortness_severity = random.randint(0,10)\n",
    "cough_frequency = random.randint(0,10)\n",
    "cough_severity = random.randint(0,10)\n",
    "\n",
    "\n",
    "# Coronary heart disease (CHD) \n",
    "\n",
    "# BP, Heart rate and Cholesterol\n",
    "\n",
    "# Blood Pressure Categories (ref heart.org)\n",
    "\n",
    "  # Normal \n",
    "  #   Systolic less than 120 and Diastolic less than 80\n",
    "  # Elevated \n",
    "  #   Systolic 120 - 129 and Diastolic less than 80\n",
    "\n",
    "  # High Blood Pressure 1 (HyperTension)\n",
    "  #   Systolic 130 - 139 or Diastolic 80 - 89\n",
    "  # High Blood Pressure 2 (HyperTension)\n",
    "  #   Systolic 140 or higher or  Diastolic 90 or higher \n",
    "  # HyperTesnsive Chrisis\n",
    "  #   Systolic higher than 180 or  Diastolic higher than 120 \n",
    "\n",
    "# Cholestrol\n",
    "  # Good Less than 200 (but the lower the better)\n",
    "  # Borderline to moderately elevated\t200–239\n",
    "  # High\t240 or higher\n",
    "\n",
    "\n",
    "blood_pressure_sys = random.randint(50,250)\n",
    "blood_pressure_dia = random.randint(50,250)\n",
    "heart_rate = random.randint(60,200)\n",
    "cholestorol = random.randint(100,500)\n",
    "\n",
    "# Normal oxygen saturation is usually between 96% and 98%. Any level below this is\n",
    "# considered dangerous and leads to hypoxemia.\n",
    "# Use Oxygen Saturation parameters to predict Hypoxemia.\n",
    "\n",
    "oxygen_saturation = random.randint(90,100)\n",
    "\n",
    "# Moderate acute asthma is characterized by an oxygen saturation level of 92% to 95%, a pulse\n",
    "# of 100 to 125 beats per minute, a respiratory rate of 20 to 30 breaths per minute.\n",
    "# Use Oxygen saturation, BP, Respiration parameter to predict asthma.\n",
    "\n",
    "\n"
   ]
  },
  {
   "cell_type": "code",
   "execution_count": 5,
   "metadata": {},
   "outputs": [],
   "source": [
    "import pandas as pd\n",
    "import random \n",
    "\n",
    "df = pd.DataFrame([])\n",
    "\n",
    "for i in range(1,1000):\n",
    "    post_meal = bool(random.getrandbits(1))\n",
    "    blood_sugar_level = random.randint(0,400)\n",
    "    \n",
    "    breaths_per_minute = random.randint(12,30)\n",
    "    is_running = bool(random.getrandbits(1))\n",
    "    breath_shortness_severity = random.randint(0,10)\n",
    "    cough_frequency = random.randint(0,10)\n",
    "    cough_severity = random.randint(0,10)\n",
    "\n",
    "    blood_pressure_sys = random.randint(50,250)\n",
    "    blood_pressure_dia = random.randint(50,250)\n",
    "    heart_rate = random.randint(60,200)\n",
    "    cholestorol = random.randint(100,500)\n",
    "\n",
    "    oxygen_saturation = random.randint(90,100)\n",
    "    \n",
    "    df.append({'c1':2, 'c2':2, 'c3': 3}, ignore_index=True)\n",
    "    "
   ]
  },
  {
   "cell_type": "code",
   "execution_count": 6,
   "metadata": {},
   "outputs": [
    {
     "data": {
      "text/html": [
       "<div>\n",
       "<style scoped>\n",
       "    .dataframe tbody tr th:only-of-type {\n",
       "        vertical-align: middle;\n",
       "    }\n",
       "\n",
       "    .dataframe tbody tr th {\n",
       "        vertical-align: top;\n",
       "    }\n",
       "\n",
       "    .dataframe thead th {\n",
       "        text-align: right;\n",
       "    }\n",
       "</style>\n",
       "<table border=\"1\" class=\"dataframe\">\n",
       "  <thead>\n",
       "    <tr style=\"text-align: right;\">\n",
       "      <th></th>\n",
       "    </tr>\n",
       "  </thead>\n",
       "  <tbody>\n",
       "  </tbody>\n",
       "</table>\n",
       "</div>"
      ],
      "text/plain": [
       "Empty DataFrame\n",
       "Columns: []\n",
       "Index: []"
      ]
     },
     "execution_count": 6,
     "metadata": {},
     "output_type": "execute_result"
    }
   ],
   "source": [
    "df"
   ]
  },
  {
   "cell_type": "code",
   "execution_count": null,
   "metadata": {},
   "outputs": [],
   "source": []
  }
 ],
 "metadata": {
  "kernelspec": {
   "display_name": "Python 3",
   "language": "python",
   "name": "python3"
  },
  "language_info": {
   "codemirror_mode": {
    "name": "ipython",
    "version": 3
   },
   "file_extension": ".py",
   "mimetype": "text/x-python",
   "name": "python",
   "nbconvert_exporter": "python",
   "pygments_lexer": "ipython3",
   "version": "3.7.1"
  }
 },
 "nbformat": 4,
 "nbformat_minor": 2
}
