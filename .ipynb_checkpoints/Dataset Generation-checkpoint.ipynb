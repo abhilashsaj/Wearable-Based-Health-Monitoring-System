{
 "cells": [
  {
   "cell_type": "code",
   "execution_count": 5,
   "metadata": {},
   "outputs": [
    {
     "name": "stdout",
     "output_type": "stream",
     "text": [
      "False 114\n"
     ]
    }
   ],
   "source": [
    "import random \n",
    "\n",
    "# BLOOD SUGAR LEVELS (mg/dl)\n",
    "# normal \n",
    "    # 70 - 99  fasting\n",
    "    # <140 post meal\n",
    "    \n",
    "# prediabetes \n",
    "    # 100 - 125  fasting\n",
    "    # 140 - 199 post meal\n",
    "    \n",
    "# Diabetes \n",
    "    # >126  fasting\n",
    "    # >200 post meal\n",
    "    \n",
    "# convert mmol/l to mg/l     \n",
    "\n",
    "post_meal = bool(random.getrandbits(1))\n",
    "blood_sugar_level = random. randint(0,2500)\n",
    "\n",
    "\n",
    "print(post_meal, blood_sugar_level)\n",
    "\n",
    "\n",
    "# Bronchiectasis \n",
    "\n",
    "breaths_per_minute = random. randint(0,50)\n",
    "cough_frequency = random. randint(0,50)"
   ]
  },
  {
   "cell_type": "code",
   "execution_count": null,
   "metadata": {},
   "outputs": [],
   "source": []
  }
 ],
 "metadata": {
  "kernelspec": {
   "display_name": "Python 3",
   "language": "python",
   "name": "python3"
  },
  "language_info": {
   "codemirror_mode": {
    "name": "ipython",
    "version": 3
   },
   "file_extension": ".py",
   "mimetype": "text/x-python",
   "name": "python",
   "nbconvert_exporter": "python",
   "pygments_lexer": "ipython3",
   "version": "3.7.1"
  }
 },
 "nbformat": 4,
 "nbformat_minor": 2
}
